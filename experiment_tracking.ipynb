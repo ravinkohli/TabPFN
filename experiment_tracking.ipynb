{
 "cells": [
  {
   "cell_type": "code",
   "execution_count": 1,
   "metadata": {},
   "outputs": [
    {
     "ename": "ModuleNotFoundError",
     "evalue": "No module named 'submitit.submitit'",
     "output_type": "error",
     "traceback": [
      "\u001b[0;31m---------------------------------------------------------------------------\u001b[0m",
      "\u001b[0;31mModuleNotFoundError\u001b[0m                       Traceback (most recent call last)",
      "Cell \u001b[0;32mIn [1], line 14\u001b[0m\n\u001b[1;32m     11\u001b[0m \u001b[39mimport\u001b[39;00m \u001b[39mtabpfn\u001b[39;00m\u001b[39m.\u001b[39;00m\u001b[39mscripts\u001b[39;00m\u001b[39m.\u001b[39;00m\u001b[39mtabular_baselines\u001b[39;00m \u001b[39mas\u001b[39;00m \u001b[39mtb\u001b[39;00m\n\u001b[1;32m     12\u001b[0m \u001b[39mfrom\u001b[39;00m \u001b[39mtabpfn\u001b[39;00m\u001b[39m.\u001b[39;00m\u001b[39mscripts\u001b[39;00m\u001b[39m.\u001b[39;00m\u001b[39mtabular_metrics\u001b[39;00m \u001b[39mimport\u001b[39;00m (calculate_score, time_metric)\n\u001b[0;32m---> 14\u001b[0m \u001b[39mfrom\u001b[39;00m \u001b[39msubmitit\u001b[39;00m\u001b[39m.\u001b[39;00m\u001b[39msubmitit\u001b[39;00m \u001b[39mimport\u001b[39;00m SlurmExecutor\n",
      "\u001b[0;31mModuleNotFoundError\u001b[0m: No module named 'submitit.submitit'"
     ]
    }
   ],
   "source": [
    "import argparse\n",
    "from __future__ import annotations\n",
    "\n",
    "from itertools import product\n",
    "\n",
    "import pandas as pd\n",
    "import os\n",
    "\n",
    "from eval_utils import Dataset, Results, arguments, do_evaluations, METHODS, METRICS, eval_method, set_seed\n",
    "\n",
    "import tabpfn.scripts.tabular_baselines as tb\n",
    "from tabpfn.scripts.tabular_metrics import (calculate_score, time_metric)\n",
    "\n",
    "from submitit.submitit import SlurmExecutor"
   ]
  },
  {
   "cell_type": "code",
   "execution_count": null,
   "metadata": {},
   "outputs": [],
   "source": [
    "done on automl\n",
    "\n",
    "autosklearn2, svm_default, catboost_default, gp_default, xgb svm random_forest gp gradient_boosting\n",
    "\n",
    "started on automl\n",
    "\n",
    "xgb, svm, random forest, gp, gradient_boosting, knn, logistic\n",
    "\n",
    "done on grin\n",
    "transformer all 4, svm_default, catboost_default (as subsample)\n",
    "\n",
    "started on grin\n",
    "\n",
    "svm_default, catboost_default, gp_default, \n",
    "\n",
    "started on 179\n",
    "\n",
    "transformer all 4, autogluon"
   ]
  },
  {
   "cell_type": "code",
   "execution_count": null,
   "metadata": {},
   "outputs": [],
   "source": [
    "python evaluation.py --result_path /work/dlclarge1/rkohli-results_tabpfn_400 --methods xgb_default svm_default rf_default rf_default_n_estimators_10 rf_default_n_estimators_32 gp_default gradient_boosting_default --times 3600 --slurm --parallel --datasets \"automlbenchmark_classification_271\" "
   ]
  },
  {
   "cell_type": "code",
   "execution_count": null,
   "metadata": {},
   "outputs": [],
   "source": [
    "python evaluation.py --result_path /work/dlclarge1/rkohli-results_tabpfn_400 --methods gradient_boosting --times 3600 --slurm --parallel"
   ]
  },
  {
   "cell_type": "code",
   "execution_count": null,
   "metadata": {},
   "outputs": [],
   "source": [
    "python evaluation.py --result_path /work/dlclarge1/rkohli-results_tabpfn_400 --methods xgb svm random_forest gp gradient_boosting --times 3600 --slurm --parallel --datasets \"grinzstjan\""
   ]
  },
  {
   "cell_type": "code",
   "execution_count": null,
   "metadata": {},
   "outputs": [],
   "source": [
    "transformer_cpu_N_1\n",
    "python evaluation.py --result_path /work/dlclarge1/rkohli-results_tabpfn_400 --methods svm_default catboost_default gp_default --times 3600 --slurm --parallel --datasets \"automlbenchmark_classification_271\" --subsample --chunk_size 3 "
   ]
  },
  {
   "cell_type": "code",
   "execution_count": null,
   "metadata": {},
   "outputs": [],
   "source": [
    "python evaluation.py --result_path /work/dlclarge1/rkohli-results_tabpfn_400  --datasets \"automlbenchmark_classification_271\" --subsample --methods autogluon svm autosklearn2 lightgbm catboost xgb knn logistic gp gradient_boosting transformer_cpu_N_1 transformer_cpu_N_4 transformer_cpu_N_8 transformer_cpu_N_32 --times 3600  --slurm --fetch_only"
   ]
  },
  {
   "cell_type": "code",
   "execution_count": 2,
   "metadata": {},
   "outputs": [],
   "source": [
    "headers = [\"metric\", \"dataset\"]\n",
    "indices = [\n",
    "    \"method\",\n",
    "    \"optimization_metric\",\n",
    "    \"optimization_time\",\n",
    "    \"eval_position\",\n",
    "    \"split\",\n",
    "]\n",
    "\n",
    "df = pd.read_csv(\n",
    "    \"predefined_results_with_autogluon.csv\",\n",
    "    index_col=list(range(len(indices))),\n",
    "    header=list(range(len(headers))),\n",
    ")\n",
    "result_predefined = Results(df)"
   ]
  },
  {
   "cell_type": "code",
   "execution_count": 4,
   "metadata": {},
   "outputs": [],
   "source": [
    "df = pd.read_csv(\n",
    "    \"csv_files/results_naiveautoml_iter_10_test_valid.csv\",\n",
    "    index_col=list(range(len(indices))),\n",
    "    header=list(range(len(headers))),\n",
    ")\n",
    "result_naive_10 = Results(df)"
   ]
  },
  {
   "cell_type": "code",
   "execution_count": 6,
   "metadata": {},
   "outputs": [],
   "source": [
    "df = pd.read_csv(\n",
    "    \"csv_files/results_naiveautoml_test_valid.csv\",\n",
    "    index_col=list(range(len(indices))),\n",
    "    header=list(range(len(headers))),\n",
    ")\n",
    "result_naive = Results(df)"
   ]
  },
  {
   "cell_type": "code",
   "execution_count": 9,
   "metadata": {},
   "outputs": [
    {
     "data": {
      "text/plain": [
       "['Australian',\n",
       " 'CPMP-2015-runtime-classification',\n",
       " 'CastMetal1',\n",
       " 'CostaMadre1',\n",
       " 'DiabeticMellitus',\n",
       " 'GAMETES_Epistasis_2-Way_20atts_0.1H_EDM-1_1',\n",
       " 'KnuggetChase3',\n",
       " 'LED-display-domain-7digit',\n",
       " 'MegaWatt1',\n",
       " 'MiceProtein',\n",
       " 'PieChart1',\n",
       " 'PieChart3',\n",
       " 'PizzaCutter1',\n",
       " 'PizzaCutter3',\n",
       " 'PopularKids',\n",
       " 'SPECT',\n",
       " 'SPECTF',\n",
       " 'Smartphone-Based_Recognition_of_Human_Activities',\n",
       " 'Touch2',\n",
       " 'TuningSVMs',\n",
       " 'analcatdata_apnea1',\n",
       " 'analcatdata_apnea2',\n",
       " 'analcatdata_apnea3',\n",
       " 'analcatdata_authorship',\n",
       " 'analcatdata_birthday',\n",
       " 'analcatdata_broadwaymult',\n",
       " 'analcatdata_dmft',\n",
       " 'analcatdata_draft',\n",
       " 'analcatdata_germangss',\n",
       " 'analcatdata_gsssexsurvey',\n",
       " 'analcatdata_halloffame',\n",
       " 'analcatdata_lawsuit',\n",
       " 'analcatdata_reviewer',\n",
       " 'analcatdata_vineyard',\n",
       " 'analcatdata_wildcat',\n",
       " 'arsenic-female-bladder',\n",
       " 'autoHorse',\n",
       " 'autoMpg',\n",
       " 'autoPrice',\n",
       " 'auto_price',\n",
       " 'backache',\n",
       " 'balance-scale',\n",
       " 'banknote-authentication',\n",
       " 'biomed',\n",
       " 'blood-transfusion-service-center',\n",
       " 'bodyfat',\n",
       " 'boston',\n",
       " 'boston_corrected',\n",
       " 'breast-cancer',\n",
       " 'breast-cancer-dropped-missing-attributes-values',\n",
       " 'breast-w',\n",
       " 'breastTumor',\n",
       " 'calendarDOW',\n",
       " 'car',\n",
       " 'chatfield_4',\n",
       " 'cholesterol',\n",
       " 'chscase_census2',\n",
       " 'chscase_census3',\n",
       " 'chscase_census4',\n",
       " 'chscase_census5',\n",
       " 'chscase_census6',\n",
       " 'chscase_funds',\n",
       " 'chscase_geyser1',\n",
       " 'chscase_vine2',\n",
       " 'chscase_whale',\n",
       " 'cleve',\n",
       " 'cleveland',\n",
       " 'cleveland-nominal',\n",
       " 'climate-model-simulation-crashes',\n",
       " 'cmc',\n",
       " 'colic',\n",
       " 'colleges_usnews',\n",
       " 'collins',\n",
       " 'conference_attendance',\n",
       " 'corral',\n",
       " 'cpu',\n",
       " 'credit-approval',\n",
       " 'credit-g',\n",
       " 'cylinder-bands',\n",
       " 'dermatology',\n",
       " 'diabetes',\n",
       " 'diggle_table_a2',\n",
       " 'disclosure_x_bias',\n",
       " 'disclosure_x_noise',\n",
       " 'disclosure_x_tampered',\n",
       " 'disclosure_z',\n",
       " 'dresses-sales',\n",
       " 'eucalyptus',\n",
       " 'fishcatch',\n",
       " 'flags',\n",
       " 'glass',\n",
       " 'grub-damage',\n",
       " 'haberman',\n",
       " 'hayes-roth',\n",
       " 'heart-c',\n",
       " 'heart-h',\n",
       " 'heart-long-beach',\n",
       " 'heart-statlog',\n",
       " 'hepatitis',\n",
       " 'ilpd',\n",
       " 'ionosphere',\n",
       " 'iris',\n",
       " 'iris-example',\n",
       " 'irish',\n",
       " 'jEdit_4.0_4.2',\n",
       " 'jEdit_4.2_4.3',\n",
       " 'kc2',\n",
       " 'kdd_el_nino-small',\n",
       " 'lowbwt',\n",
       " 'lungcancer_GSE31210',\n",
       " 'machine_cpu',\n",
       " 'mc2',\n",
       " 'meta',\n",
       " 'mfeat-fourier',\n",
       " 'mfeat-karhunen',\n",
       " 'mfeat-morphological',\n",
       " 'mfeat-zernike',\n",
       " 'mofn-3-7-10',\n",
       " 'monks-problems-1',\n",
       " 'monks-problems-2',\n",
       " 'monks-problems-3',\n",
       " 'mu284',\n",
       " 'mw1',\n",
       " 'no2',\n",
       " 'parity5_plus_5',\n",
       " 'parkinsons',\n",
       " 'pbc',\n",
       " 'pbcseq',\n",
       " 'pc1',\n",
       " 'pc3',\n",
       " 'pc4',\n",
       " 'penguins',\n",
       " 'pharynx',\n",
       " 'planning-relax',\n",
       " 'plasma_retinol',\n",
       " 'pm10',\n",
       " 'prnn_crabs',\n",
       " 'prnn_fglass',\n",
       " 'prnn_synth',\n",
       " 'profb',\n",
       " 'pwLinear',\n",
       " 'qsar-biodeg',\n",
       " 'qualitative-bankruptcy',\n",
       " 'regime_alimentaire',\n",
       " 'rmftsa_ctoarrivals',\n",
       " 'rmftsa_ladata',\n",
       " 'rmftsa_sleepdata',\n",
       " 'robot-failures-lp5',\n",
       " 'sa-heart',\n",
       " 'schizo',\n",
       " 'seeds',\n",
       " 'sensory',\n",
       " 'servo',\n",
       " 'socmob',\n",
       " 'solar-flare',\n",
       " 'sonar',\n",
       " 'steel-plates-fault',\n",
       " 'stock',\n",
       " 'synthetic_control',\n",
       " 'tae',\n",
       " 'teachingAssistant',\n",
       " 'thoracic-surgery',\n",
       " 'threeOf9',\n",
       " 'thyroid-new',\n",
       " 'tic-tac-toe',\n",
       " 'titanic',\n",
       " 'tokyo1',\n",
       " 'triazines',\n",
       " 'user-knowledge',\n",
       " 'vehicle',\n",
       " 'vertebra-column',\n",
       " 'vinnie',\n",
       " 'visualizing_galaxy',\n",
       " 'vote',\n",
       " 'water-treatment',\n",
       " 'wdbc',\n",
       " 'wholesale-customers',\n",
       " 'wine',\n",
       " 'wisconsin',\n",
       " 'xd6']"
      ]
     },
     "execution_count": 9,
     "metadata": {},
     "output_type": "execute_result"
    }
   ],
   "source": [
    "result_naive.datasets"
   ]
  },
  {
   "cell_type": "code",
   "execution_count": 11,
   "metadata": {},
   "outputs": [],
   "source": [
    "Results(pd.concat([result_predefined.df, result_naive.df, result_naive_10.df])).df.to_csv(\"predefined_results_with_naive.csv\")"
   ]
  },
  {
   "cell_type": "code",
   "execution_count": null,
   "metadata": {},
   "outputs": [],
   "source": [
    "python evaluation.py --result_path /work/dlclarge1/rkohli-results_tabpfn_400 --methods knn logistic gp gradient_boosting transformer_cpu_N_1 transformer_cpu_N_4 transformer_cpu_N_8 transformer_cpu_N_32 --times 3600  --slurm --fetch_only"
   ]
  },
  {
   "cell_type": "code",
   "execution_count": null,
   "metadata": {},
   "outputs": [],
   "source": [
    "python evaluation.py --result_path /work/dlclarge1/rkohli-results_tabpfn_400 --methods svm_default lightgbm_default catboost_default gp_default random_forest rf_default gradient_boosting_default transformer_gpu_N_1 transformer_gpu_N_4 transformer_gpu_N_8 transformer_gpu_N_32 xgb_gpu xgb_default_gpu catboost_gpu catboost_default_gpu --times 3600  --slurm --fetch_only --datasets \"automlbenchmark_classification_271\" --subsample"
   ]
  }
 ],
 "metadata": {
  "kernelspec": {
   "display_name": "Python 3.8.13 ('tabpfn-env')",
   "language": "python",
   "name": "python3"
  },
  "language_info": {
   "codemirror_mode": {
    "name": "ipython",
    "version": 3
   },
   "file_extension": ".py",
   "mimetype": "text/x-python",
   "name": "python",
   "nbconvert_exporter": "python",
   "pygments_lexer": "ipython3",
   "version": "3.8.13"
  },
  "orig_nbformat": 4,
  "vscode": {
   "interpreter": {
    "hash": "eef0a540e3996571848058dd08d7595e96d7ee3adeb57778063358a991232103"
   }
  }
 },
 "nbformat": 4,
 "nbformat_minor": 2
}
