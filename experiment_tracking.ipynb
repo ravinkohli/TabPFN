{
 "cells": [
  {
   "cell_type": "code",
   "execution_count": 8,
   "metadata": {},
   "outputs": [],
   "source": [
    "import argparse\n",
    "from __future__ import annotations\n",
    "\n",
    "from itertools import product\n",
    "\n",
    "import os\n",
    "\n",
    "from eval_utils import Dataset, Results, arguments, do_evaluations, METHODS, METRICS, eval_method, set_seed\n",
    "\n",
    "import tabpfn.scripts.tabular_baselines as tb\n",
    "from tabpfn.scripts.tabular_metrics import (calculate_score, time_metric)\n",
    "\n",
    "from submitit.submitit import SlurmExecutor"
   ]
  },
  {
   "cell_type": "code",
   "execution_count": null,
   "metadata": {},
   "outputs": [],
   "source": [
    "done on automl\n",
    "\n",
    "autosklearn2, svm_default, catboost_default, gp_default, xgb svm random_forest gp gradient_boosting\n",
    "\n",
    "started on automl\n",
    "\n",
    "xgb, svm, random forest, gp, gradient_boosting, knn, logistic\n",
    "\n",
    "done on grin\n",
    "transformer all 4, svm_default, catboost_default (as subsample)\n",
    "\n",
    "started on grin\n",
    "\n",
    "svm_default, catboost_default, gp_default, \n",
    "\n",
    "started on 179\n",
    "\n",
    "transformer all 4, autogluon"
   ]
  },
  {
   "cell_type": "code",
   "execution_count": null,
   "metadata": {},
   "outputs": [],
   "source": [
    "python evaluation.py --result_path /work/dlclarge1/rkohli-results_tabpfn_400 --methods xgb_default svm_default rf_default rf_default_n_estimators_10 rf_default_n_estimators_32 gp_default gradient_boosting_default --times 3600 --slurm --parallel --datasets \"automlbenchmark_classification_271\" "
   ]
  },
  {
   "cell_type": "code",
   "execution_count": null,
   "metadata": {},
   "outputs": [],
   "source": [
    "python evaluation.py --result_path /work/dlclarge1/rkohli-results_tabpfn_400 --methods gradient_boosting --times 3600 --slurm --parallel"
   ]
  },
  {
   "cell_type": "code",
   "execution_count": null,
   "metadata": {},
   "outputs": [],
   "source": [
    "python evaluation.py --result_path /work/dlclarge1/rkohli-results_tabpfn_400 --methods xgb svm random_forest gp gradient_boosting --times 3600 --slurm --parallel --datasets \"grinzstjan\""
   ]
  },
  {
   "cell_type": "code",
   "execution_count": null,
   "metadata": {},
   "outputs": [],
   "source": [
    "transformer_cpu_N_1\n",
    "python evaluation.py --result_path /work/dlclarge1/rkohli-results_tabpfn_400 --methods svm_default catboost_default gp_default --times 3600 --slurm --parallel --datasets \"automlbenchmark_classification_271\" --subsample --chunk_size 3 "
   ]
  },
  {
   "cell_type": "code",
   "execution_count": null,
   "metadata": {},
   "outputs": [],
   "source": [
    "python evaluation.py --result_path /work/dlclarge1/rkohli-results_tabpfn_400  --datasets \"automlbenchmark_classification_271\" --subsample --methods autogluon svm autosklearn2 lightgbm catboost xgb knn logistic gp gradient_boosting transformer_cpu_N_1 transformer_cpu_N_4 transformer_cpu_N_8 transformer_cpu_N_32 --times 3600  --slurm --fetch_only"
   ]
  },
  {
   "cell_type": "code",
   "execution_count": null,
   "metadata": {},
   "outputs": [],
   "source": []
  },
  {
   "cell_type": "code",
   "execution_count": null,
   "metadata": {},
   "outputs": [],
   "source": [
    "python evaluation.py --result_path /work/dlclarge1/rkohli-results_tabpfn_400 --methods knn logistic gp gradient_boosting transformer_cpu_N_1 transformer_cpu_N_4 transformer_cpu_N_8 transformer_cpu_N_32 --times 3600  --slurm --fetch_only"
   ]
  },
  {
   "cell_type": "code",
   "execution_count": null,
   "metadata": {},
   "outputs": [],
   "source": [
    "python evaluation.py --result_path /work/dlclarge1/rkohli-results_tabpfn_400 --methods svm_default lightgbm_default catboost_default gp_default random_forest rf_default gradient_boosting_default transformer_gpu_N_1 transformer_gpu_N_4 transformer_gpu_N_8 transformer_gpu_N_32 xgb_gpu xgb_default_gpu catboost_gpu catboost_default_gpu --times 3600  --slurm --fetch_only --datasets \"automlbenchmark_classification_271\" --subsample"
   ]
  }
 ],
 "metadata": {
  "kernelspec": {
   "display_name": "Python 3.8.13 ('tabpfn-env')",
   "language": "python",
   "name": "python3"
  },
  "language_info": {
   "codemirror_mode": {
    "name": "ipython",
    "version": 3
   },
   "file_extension": ".py",
   "mimetype": "text/x-python",
   "name": "python",
   "nbconvert_exporter": "python",
   "pygments_lexer": "ipython3",
   "version": "3.8.13"
  },
  "orig_nbformat": 4,
  "vscode": {
   "interpreter": {
    "hash": "eef0a540e3996571848058dd08d7595e96d7ee3adeb57778063358a991232103"
   }
  }
 },
 "nbformat": 4,
 "nbformat_minor": 2
}
